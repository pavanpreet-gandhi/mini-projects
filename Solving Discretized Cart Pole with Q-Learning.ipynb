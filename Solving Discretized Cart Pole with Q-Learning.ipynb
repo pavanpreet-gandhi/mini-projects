{
    "cells": [
        {
            "cell_type": "markdown",
            "source": [
                "# Machine Learning Project\r\n",
                "### By Pavan"
            ],
            "metadata": {}
        },
        {
            "cell_type": "markdown",
            "source": [
                "## Introduction"
            ],
            "metadata": {}
        },
        {
            "cell_type": "code",
            "execution_count": 1,
            "source": [
                "import numpy as np\r\n",
                "import matplotlib.pyplot as plt\r\n",
                "plt.style.use('dark_background')\r\n",
                "\r\n",
                "import gym\r\n",
                "from sklearn.preprocessing import KBinsDiscretizer\r\n",
                "from IPython.display import clear_output"
            ],
            "outputs": [],
            "metadata": {}
        },
        {
            "cell_type": "code",
            "execution_count": 2,
            "source": [
                "name = 'CartPole-v1'\r\n",
                "env = gym.make(name)"
            ],
            "outputs": [],
            "metadata": {}
        },
        {
            "cell_type": "markdown",
            "source": [
                "The game: A pole is attached by an un-actuated joint to a cart, which moves along a frictionless track. The system is controlled by applying a force of +1 or -1 to the cart. The pendulum starts upright, and the goal is to prevent it from falling over. A reward of +1 is provided for every timestep that the pole remains upright. The episode ends when the pole is more than 15 degrees from vertical, or the cart moves more than 2.4 units from the center."
            ],
            "metadata": {}
        },
        {
            "cell_type": "markdown",
            "source": [
                "This game has a discrete action space but a continous state space. To form the Q-Table we must turn the continous state space into a discrete state space using a discretizer which uniformly divides the continous state space into a 2D grid of bins."
            ],
            "metadata": {}
        },
        {
            "cell_type": "code",
            "execution_count": 3,
            "source": [
                "print('Action Space:', env.action_space) # Discrete action space\r\n",
                "print('State Space:', env.observation_space) # Continous state space"
            ],
            "outputs": [
                {
                    "output_type": "stream",
                    "name": "stdout",
                    "text": [
                        "Action Space: Discrete(2)\n",
                        "State Space: Box(-3.4028234663852886e+38, 3.4028234663852886e+38, (4,), float32)\n"
                    ]
                }
            ],
            "metadata": {}
        },
        {
            "cell_type": "markdown",
            "source": [
                "## Generating the Q-Table"
            ],
            "metadata": {}
        },
        {
            "cell_type": "markdown",
            "source": [
                "### Setting the parameters"
            ],
            "metadata": {}
        },
        {
            "cell_type": "code",
            "execution_count": 4,
            "source": [
                "n_episodes = 2000\r\n",
                "\r\n",
                "discount_rate = 0.99\r\n",
                "\r\n",
                "min_exp_rate = 0.01\r\n",
                "exp_decay_rate = 0.001\r\n",
                "\r\n",
                "min_learn_rate = 0.01\r\n",
                "learn_decay_rate = 0.001"
            ],
            "outputs": [],
            "metadata": {}
        },
        {
            "cell_type": "markdown",
            "source": [
                "### Creating the discretizer to uniformly divide the continous state into bins"
            ],
            "metadata": {}
        },
        {
            "cell_type": "code",
            "execution_count": 5,
            "source": [
                "n_bins = (6,12)\r\n",
                "\r\n",
                "# Pole angle between the low and high from the environment (-24,24) degrees\r\n",
                "# Pole angular velocity between (-50,50) degrees\r\n",
                "lower_bounds = [env.observation_space.low[2], -np.radians(50)]\r\n",
                "upper_bounds = [env.observation_space.high[2], np.radians(50)]\r\n",
                "\r\n",
                "# Converts the continous state space to a discrete state space\r\n",
                "def discretizer(_, __, angle, pole_velocity):\r\n",
                "    est = KBinsDiscretizer(n_bins=n_bins, encode='ordinal', strategy='uniform')\r\n",
                "    est.fit([lower_bounds, upper_bounds])\r\n",
                "    return tuple(map(int,est.transform([[angle, pole_velocity]])[0]))"
            ],
            "outputs": [],
            "metadata": {}
        },
        {
            "cell_type": "markdown",
            "source": [
                "### Initializing the Q-Table"
            ],
            "metadata": {}
        },
        {
            "cell_type": "code",
            "execution_count": 6,
            "source": [
                "q_table = np.zeros(n_bins + (env.action_space.n,))\r\n",
                "q_table.shape"
            ],
            "outputs": [
                {
                    "output_type": "execute_result",
                    "data": {
                        "text/plain": [
                            "(6, 12, 2)"
                        ]
                    },
                    "metadata": {},
                    "execution_count": 6
                }
            ],
            "metadata": {}
        },
        {
            "cell_type": "markdown",
            "source": [
                "The Q-Table has 6 bins for the angle, 12 bins for the angular velocity and 2 bins for the actions"
            ],
            "metadata": {}
        },
        {
            "cell_type": "markdown",
            "source": [
                "### Creating helper functions"
            ],
            "metadata": {}
        },
        {
            "cell_type": "code",
            "execution_count": 7,
            "source": [
                "# Best action given the state\r\n",
                "def best_action(state:tuple):\r\n",
                "    return np.argmax(q_table[state])"
            ],
            "outputs": [],
            "metadata": {}
        },
        {
            "cell_type": "code",
            "execution_count": 8,
            "source": [
                "# Learning rate decay\r\n",
                "def learning_rate(e:int) -> float  :\r\n",
                "    return min_learn_rate + (1 - min_learn_rate) * np.exp(-learn_decay_rate*e)"
            ],
            "outputs": [],
            "metadata": {}
        },
        {
            "cell_type": "code",
            "execution_count": 9,
            "source": [
                "# Exploration rate decay\r\n",
                "def exploration_rate(e:int) -> float :\r\n",
                "    return min_exp_rate + (1 - min_exp_rate) * np.exp(-exp_decay_rate*e)"
            ],
            "outputs": [],
            "metadata": {}
        },
        {
            "cell_type": "markdown",
            "source": [
                "### Building the Q-Table"
            ],
            "metadata": {}
        },
        {
            "cell_type": "code",
            "execution_count": 10,
            "source": [
                "scores = []\r\n",
                "\r\n",
                "for e in range(n_episodes):\r\n",
                "    \r\n",
                "    # Discretize state into buckets\r\n",
                "    current_state = discretizer(*env.reset())\r\n",
                "    \r\n",
                "    done = False\r\n",
                "    score = 0\r\n",
                "    while done!=True:\r\n",
                "        \r\n",
                "        # Choose between exploration and exploitation\r\n",
                "        er = exploration_rate(e)\r\n",
                "        if np.random.random() <= er: \r\n",
                "            action = env.action_space.sample() # Explore\r\n",
                "        else:\r\n",
                "            action = best_action(current_state) # Exploit\r\n",
                "        \r\n",
                "        # Increment enviroment\r\n",
                "        observation, reward, done, _ = env.step(action)\r\n",
                "        new_state = discretizer(*observation)\r\n",
                "        \r\n",
                "        # Update Q-Table according to the Bellman equation\r\n",
                "        lr = learning_rate(e)\r\n",
                "        old_value = q_table[current_state][action]\r\n",
                "        learned_value = reward + discount_rate*np.max(q_table[new_state])\r\n",
                "        q_table[current_state][action] = (1-lr)*old_value + lr*learned_value\r\n",
                "        \r\n",
                "        # Update variables\r\n",
                "        current_state = new_state\r\n",
                "        score+=1\r\n",
                "        env.render()\r\n",
                "    \r\n",
                "    print('Episode:', e)\r\n",
                "    print('Score:', score)\r\n",
                "    clear_output(wait=True)\r\n",
                "    scores.append(score)"
            ],
            "outputs": [
                {
                    "output_type": "stream",
                    "name": "stdout",
                    "text": [
                        "Episode: 1999\n",
                        "Score: 500\n"
                    ]
                }
            ],
            "metadata": {}
        },
        {
            "cell_type": "markdown",
            "source": [
                "### Plotting the scores during learning"
            ],
            "metadata": {}
        },
        {
            "cell_type": "code",
            "execution_count": 11,
            "source": [
                "es = [e for e in range(n_episodes)]\r\n",
                "plt.plot(es, scores)\r\n",
                "plt.title('Scores')\r\n",
                "plt.grid()\r\n",
                "plt.show()"
            ],
            "outputs": [
                {
                    "output_type": "display_data",
                    "data": {
                        "text/plain": [
                            "<Figure size 432x288 with 1 Axes>"
                        ],
                        "image/png": "[encoded data removed]"
                    },
                    "metadata": {
                        "needs_background": "light"
                    }
                }
            ],
            "metadata": {}
        },
        {
            "cell_type": "markdown",
            "source": [
                "The scores are increasing over time which means it's learning"
            ],
            "metadata": {}
        },
        {
            "cell_type": "markdown",
            "source": [
                "## Playing the game"
            ],
            "metadata": {}
        },
        {
            "cell_type": "code",
            "execution_count": 18,
            "source": [
                "# Play the game 100 times with the calculated Q-Table\r\n",
                "scores = []\r\n",
                "for e in range(100):\r\n",
                "    observation = env.reset()\r\n",
                "    state = discretizer(*observation)\r\n",
                "    done = False\r\n",
                "    score = 0\r\n",
                "    while done!=True:\r\n",
                "        env.render()\r\n",
                "        action = best_action(state)\r\n",
                "        observation, reward, done, info = env.step(action)\r\n",
                "        state = discretizer(*observation)\r\n",
                "        score+=1\r\n",
                "    scores.append(score)\r\n",
                "    print('Episode:', e)\r\n",
                "    print('Score:', score)\r\n",
                "    clear_output(wait=True)\r\n",
                "env.close()\r\n",
                "print('The average score is:', np.mean(scores))"
            ],
            "outputs": [
                {
                    "output_type": "stream",
                    "name": "stdout",
                    "text": [
                        "The average score is: 500.0\n"
                    ]
                }
            ],
            "metadata": {}
        },
        {
            "cell_type": "markdown",
            "source": [
                "Since 500 is the maximum score possible, the algorithm works well"
            ],
            "metadata": {}
        }
    ],
    "metadata": {
        "orig_nbformat": 4,
        "language_info": {
            "name": "python",
            "version": "3.9.5",
            "mimetype": "text/x-python",
            "codemirror_mode": {
                "name": "ipython",
                "version": 3
            },
            "pygments_lexer": "ipython3",
            "nbconvert_exporter": "python",
            "file_extension": ".py"
        },
        "kernelspec": {
            "name": "python3",
            "display_name": "Python 3.9.5 64-bit"
        },
        "interpreter": {
            "hash": "63fd5069d213b44bf678585dea6b12cceca9941eaf7f819626cde1f2670de90d"
        }
    },
    "nbformat": 4,
    "nbformat_minor": 2
}